{
  "metadata": {
    "language_info": {
      "codemirror_mode": {
        "name": "python",
        "version": 3
      },
      "file_extension": ".py",
      "mimetype": "text/x-python",
      "name": "python",
      "nbconvert_exporter": "python",
      "pygments_lexer": "ipython3",
      "version": "3.8"
    },
    "kernelspec": {
      "name": "python",
      "display_name": "Python (Pyodide)",
      "language": "python"
    }
  },
  "nbformat_minor": 4,
  "nbformat": 4,
  "cells": [
    {
      "cell_type": "markdown",
      "source": "# PRIYADHARSHINI P - 732719104031\n\n# EXERCISE\n\nAnswer the questions or complete the tasks outlined in bold below, use the specific method described if applicable.\n\n**What is 7 to the power of 4?**",
      "metadata": {}
    },
    {
      "cell_type": "code",
      "source": "print(7**4)",
      "metadata": {
        "trusted": true
      },
      "execution_count": 1,
      "outputs": [
        {
          "name": "stdout",
          "text": "2401\n",
          "output_type": "stream"
        }
      ]
    },
    {
      "cell_type": "markdown",
      "source": "**Split this string:**\n\ns = \"Hi there Sam!\"\n\n**into a list.**",
      "metadata": {}
    },
    {
      "cell_type": "code",
      "source": "s = \"Hi there Sam!\"",
      "metadata": {
        "trusted": true
      },
      "execution_count": 2,
      "outputs": []
    },
    {
      "cell_type": "code",
      "source": "a=s.split();\nprint(a);",
      "metadata": {
        "trusted": true
      },
      "execution_count": 3,
      "outputs": [
        {
          "name": "stdout",
          "text": "['Hi', 'there', 'Sam!']\n",
          "output_type": "stream"
        }
      ]
    },
    {
      "cell_type": "markdown",
      "source": "**Given the variables:**\n\nplanet = \"Earth\"\ndiameter = 12742\n\nUse .format() to print the following string:\n\n**The diameter of Earth is 12742 kilometers.**\n",
      "metadata": {}
    },
    {
      "cell_type": "code",
      "source": "planet=\"Earth\"\ndiameter=12742\nprint(\"The diameter of {} is {} kilometers.\" .format(\"Earth\",12742))",
      "metadata": {
        "trusted": true
      },
      "execution_count": 17,
      "outputs": [
        {
          "name": "stdout",
          "text": "The diameter of Earth is 12742 kilometers.\n",
          "output_type": "stream"
        }
      ]
    },
    {
      "cell_type": "markdown",
      "source": "**Given this nested list, use indexing to grab the word \"hello\"**",
      "metadata": {}
    },
    {
      "cell_type": "code",
      "source": "d = {'k1':[1,2,3,{'tricky':['oh','man','inception',{'target':[1,2,3,'hello']}]}]}\nprint(d['k1'][3][\"tricky\"][3]['target'][3])",
      "metadata": {
        "trusted": true
      },
      "execution_count": 5,
      "outputs": [
        {
          "name": "stdout",
          "text": "hello\n",
          "output_type": "stream"
        }
      ]
    },
    {
      "cell_type": "markdown",
      "source": "**What is the main difference between a tuple and a list?**",
      "metadata": {}
    },
    {
      "cell_type": "code",
      "source": "# tuple is immutable",
      "metadata": {
        "trusted": true
      },
      "execution_count": 16,
      "outputs": []
    },
    {
      "cell_type": "markdown",
      "source": "**Create a function that grabs the email website domain from a string in the form:**\n\nadmin@domain.com\n\n**So for example, passing \"admin@domain.com\" would return: domain.com**",
      "metadata": {}
    },
    {
      "cell_type": "code",
      "source": "def domainGet(email):\n  return email.split('@')[-1]\ndomainGet('admin@domain.com')",
      "metadata": {
        "trusted": true
      },
      "execution_count": 18,
      "outputs": [
        {
          "execution_count": 18,
          "output_type": "execute_result",
          "data": {
            "text/plain": "'domain.com'"
          },
          "metadata": {}
        }
      ]
    },
    {
      "cell_type": "markdown",
      "source": "**Create a basic function that returns True if the word 'dog' is contained in the input string. Don't worry about edge cases like a punctuation being attached to the word dog, but do account for capitalization.**",
      "metadata": {}
    },
    {
      "cell_type": "code",
      "source": "def findDog(st):\n  return 'dog' in st.lower().split()\nfindDog('Is there a dog here?')",
      "metadata": {
        "trusted": true
      },
      "execution_count": 9,
      "outputs": [
        {
          "execution_count": 9,
          "output_type": "execute_result",
          "data": {
            "text/plain": "True"
          },
          "metadata": {}
        }
      ]
    },
    {
      "cell_type": "markdown",
      "source": "**Create a function that counts the number of times the word \"dog\" occurs in a string. Again ignore edge cases.**",
      "metadata": {}
    },
    {
      "cell_type": "code",
      "source": "def countDog(st):\n  count=0\n  for word in st.lower().split():\n    if word =='dog':\n      count+=1\n  return count\ncountDog('This dog runs faster than the other dog dude!')",
      "metadata": {
        "trusted": true
      },
      "execution_count": 10,
      "outputs": [
        {
          "execution_count": 10,
          "output_type": "execute_result",
          "data": {
            "text/plain": "2"
          },
          "metadata": {}
        }
      ]
    },
    {
      "cell_type": "markdown",
      "source": "# **Problem**\n\nYou are driving a little too fast, and a police officer stops you. Write a function to return one of 3 possible results: \"No ticket\", \"Small ticket\", or \"Big Ticket\". If your speed is 60 or less, the result is \"No Ticket\". If speed is between 61 and 80 inclusive, the result is \"Small Ticket\". If speed is 81 or more, the result is \"Big Ticket\". Unless it is your birthday (encoded as a boolean value in the parameters of the function) -- on your birthday, your speed can be 5 higher in all cases.**",
      "metadata": {}
    },
    {
      "cell_type": "code",
      "source": "def caught_speeding(speed, is_birthday):\n    \n    if is_birthday:\n        speed = speed - 5\n    \n    if speed<=60:\n      return \"No Ticket\"\n    elif speed>=61 and speed<=80:\n      return \"Small Ticket\"\n    else:\n      return \"Big Ticket\"\ncaught_speeding(89,False)",
      "metadata": {
        "trusted": true
      },
      "execution_count": 11,
      "outputs": [
        {
          "execution_count": 11,
          "output_type": "execute_result",
          "data": {
            "text/plain": "'Big Ticket'"
          },
          "metadata": {}
        }
      ]
    },
    {
      "cell_type": "code",
      "source": "caught_speeding(65,False)",
      "metadata": {
        "trusted": true
      },
      "execution_count": 12,
      "outputs": [
        {
          "execution_count": 12,
          "output_type": "execute_result",
          "data": {
            "text/plain": "'Small Ticket'"
          },
          "metadata": {}
        }
      ]
    },
    {
      "cell_type": "markdown",
      "source": "**Create an employee list with basic salary values(at least 5 values for 5 employees) and using a for loop retreive each employee salary and calculate total salary expenditure.**",
      "metadata": {}
    },
    {
      "cell_type": "code",
      "source": "l=[12000,13000,20000,18000,21000]\ns=0\nprint(\"Salaries:\")\nfor i in l:\n  print(i)\n  s+=i\nprint(\"Total Salary Expenditure:\",s)",
      "metadata": {
        "trusted": true
      },
      "execution_count": 13,
      "outputs": [
        {
          "name": "stdout",
          "text": "Salaries:\n12000\n13000\n20000\n18000\n21000\nTotal Salary Expenditure: 84000\n",
          "output_type": "stream"
        }
      ]
    },
    {
      "cell_type": "markdown",
      "source": "# Create two dictionaries in Python:\n\nFirst one to contain fields as Empid, Empname, Basicpay\n\nSecond dictionary to contain fields as DeptName, DeptId.\n\n**Combine both dictionaries.**",
      "metadata": {}
    },
    {
      "cell_type": "code",
      "source": "dict1={\"Empid\":1900,\"Empname\":\"Shivam\",\"Basicpay\":52000}\ndict2={\"DeptName\":\"IT\",\"DeptId\":101}\ndict1.update(dict2)\nprint(dict1)",
      "metadata": {
        "trusted": true
      },
      "execution_count": 14,
      "outputs": [
        {
          "name": "stdout",
          "text": "{'Empid': 1900, 'Empname': 'Shivam', 'Basicpay': 52000, 'DeptName': 'IT', 'DeptId': 101}\n",
          "output_type": "stream"
        }
      ]
    },
    {
      "cell_type": "code",
      "source": "",
      "metadata": {},
      "execution_count": null,
      "outputs": []
    }
  ]
}