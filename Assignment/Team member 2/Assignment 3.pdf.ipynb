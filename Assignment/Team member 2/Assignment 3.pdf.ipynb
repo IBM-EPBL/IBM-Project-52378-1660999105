{
  "metadata": {
    "language_info": {
      "codemirror_mode": {
        "name": "python",
        "version": 3
      },
      "file_extension": ".py",
      "mimetype": "text/x-python",
      "name": "python",
      "nbconvert_exporter": "python",
      "pygments_lexer": "ipython3",
      "version": "3.8"
    },
    "kernelspec": {
      "name": "python",
      "display_name": "Python (Pyodide)",
      "language": "python"
    }
  },
  "nbformat_minor": 4,
  "nbformat": 4,
  "cells": [
    {
      "cell_type": "markdown",
      "source": "<!--  -->Exercise",
      "metadata": {}
    },
    {
      "cell_type": "markdown",
      "source": "<!--  -->Answer the questions or complete the taskss outined in bold below,use the specific method described if applicable.",
      "metadata": {}
    },
    {
      "cell_type": "raw",
      "source": "What is 7 to the power of 4",
      "metadata": {}
    },
    {
      "cell_type": "code",
      "source": "7**4",
      "metadata": {
        "trusted": true
      },
      "execution_count": 2,
      "outputs": [
        {
          "execution_count": 2,
          "output_type": "execute_result",
          "data": {
            "text/plain": "2401"
          },
          "metadata": {}
        }
      ]
    },
    {
      "cell_type": "raw",
      "source": "Split the string:",
      "metadata": {}
    },
    {
      "cell_type": "markdown",
      "source": "<!--  -->s=\"Hi there Sam!\"",
      "metadata": {}
    },
    {
      "cell_type": "raw",
      "source": "into a list.",
      "metadata": {}
    },
    {
      "cell_type": "code",
      "source": "s = \"Hi there Sam!\"\ns.split()",
      "metadata": {
        "trusted": true
      },
      "execution_count": 3,
      "outputs": [
        {
          "execution_count": 3,
          "output_type": "execute_result",
          "data": {
            "text/plain": "['Hi', 'there', 'Sam!']"
          },
          "metadata": {}
        }
      ]
    },
    {
      "cell_type": "raw",
      "source": "Given the variables:",
      "metadata": {}
    },
    {
      "cell_type": "markdown",
      "source": "planet= \"Earth\"diameter = 12742",
      "metadata": {}
    },
    {
      "cell_type": "markdown",
      "source": "Use.format() to print the folowing string:",
      "metadata": {}
    },
    {
      "cell_type": "raw",
      "source": "The diameter of Earth is 12742 kilometers.",
      "metadata": {}
    },
    {
      "cell_type": "code",
      "source": "planet=\"Earth\"\ndiameter=12742\nprint(\"The diameter of {} is {} kilometers.\" .format(\"Earth\",12742))",
      "metadata": {
        "trusted": true
      },
      "execution_count": 8,
      "outputs": [
        {
          "name": "stdout",
          "text": "The diameter of Earth is 12742 kilometers.\n",
          "output_type": "stream"
        }
      ]
    },
    {
      "cell_type": "raw",
      "source": "Given this nested list,use indexing to grab the word \"hello\"",
      "metadata": {}
    },
    {
      "cell_type": "code",
      "source": "d = {'K1':[1,2,3,{'tricky':['oh','man','inception',{'target':[1,2,3,'hello']}]}]}\nprint(d['K1'][3][\"tricky\"][3]['target'][3])",
      "metadata": {
        "trusted": true
      },
      "execution_count": 13,
      "outputs": [
        {
          "name": "stdout",
          "text": "hello\n",
          "output_type": "stream"
        }
      ]
    },
    {
      "cell_type": "raw",
      "source": "What is the main difference between a tuple and a list?",
      "metadata": {}
    },
    {
      "cell_type": "code",
      "source": "# tuple is immutable",
      "metadata": {
        "trusted": true
      },
      "execution_count": 14,
      "outputs": []
    },
    {
      "cell_type": "raw",
      "source": "Create a function that grabs the email website domain from a string in the form:",
      "metadata": {}
    },
    {
      "cell_type": "markdown",
      "source": "<!--  -->admin@domain.com",
      "metadata": {}
    },
    {
      "cell_type": "raw",
      "source": "So for example ,passing \"admin@domain.com\"would return:domain.com",
      "metadata": {}
    },
    {
      "cell_type": "code",
      "source": "def domainGet(email):\n   return email.split('@')[-1]\ndomainGet('admin@domain.com')",
      "metadata": {
        "trusted": true
      },
      "execution_count": 16,
      "outputs": [
        {
          "execution_count": 16,
          "output_type": "execute_result",
          "data": {
            "text/plain": "'domain.com'"
          },
          "metadata": {}
        }
      ]
    },
    {
      "cell_type": "raw",
      "source": "Create a basic function that returns true if the word 'dog' is contained in the input string .\nDon't worry about edge cases like a punctuation being attached to the word dog,but do account for capitalization.",
      "metadata": {}
    },
    {
      "cell_type": "code",
      "source": "def findDog(st):\n    return 'dog' in st.lower().split()\nfindDog('Is there a dog here?')",
      "metadata": {
        "trusted": true
      },
      "execution_count": 18,
      "outputs": [
        {
          "execution_count": 18,
          "output_type": "execute_result",
          "data": {
            "text/plain": "True"
          },
          "metadata": {}
        }
      ]
    },
    {
      "cell_type": "raw",
      "source": "Create a function that counts the number of times the word \"dog\" occurs in a string .Again ignore edge cases.",
      "metadata": {}
    },
    {
      "cell_type": "code",
      "source": "def countDog(st):\n    count=0\n    for word in st.lower().split():\n        if word =='dog':\n            count+=1\n            return count\n        countDog('This dog runs faster than the other dog dude!')\n            ",
      "metadata": {
        "trusted": true
      },
      "execution_count": 22,
      "outputs": []
    },
    {
      "cell_type": "markdown",
      "source": "2",
      "metadata": {}
    },
    {
      "cell_type": "raw",
      "source": "Problem",
      "metadata": {}
    },
    {
      "cell_type": "markdown",
      "source": "<!--  -->You are driving a little too fast,and a police officer stops you.Write a function to return one of 3 possible results:\"No ticket\",\"Small ticket\",or \"Big ticket\".If your speed is 60or less,the result is \"No ticket\".If speed is between 61 and 80 inclusive,the result is \"Small ticket\".If speed is 81 or more ,the result is \"Big ticket\".Unlessit is your birthday(encoded as a boolean value in the parameters of the function)--on your birthday,your speed can be 5 higher in all cases.**",
      "metadata": {}
    },
    {
      "cell_type": "code",
      "source": "def caught_speeding(speed, is_birthday):\n    \n    if is_birthday:\n        speed = speed - 5\n        \n    if speed<=60:\n            return \"No Ticket\"\n    elif speed>=61 and speed<=80:\n           return\"Small Ticket\"\n    else:\n            return \"Big Ticket\"\ncaught_speeding(89,False)",
      "metadata": {
        "trusted": true
      },
      "execution_count": 26,
      "outputs": [
        {
          "execution_count": 26,
          "output_type": "execute_result",
          "data": {
            "text/plain": "'Big Ticket'"
          },
          "metadata": {}
        }
      ]
    },
    {
      "cell_type": "code",
      "source": "caught_speeding(65,False)",
      "metadata": {
        "trusted": true
      },
      "execution_count": 27,
      "outputs": [
        {
          "execution_count": 27,
          "output_type": "execute_result",
          "data": {
            "text/plain": "'Small Ticket'"
          },
          "metadata": {}
        }
      ]
    },
    {
      "cell_type": "raw",
      "source": "Create an employee list with basic salary values (at least 5 values for 5 employees) and using a for loop retreive  each  empoyee salary and calculate total salary expenditure.",
      "metadata": {}
    },
    {
      "cell_type": "code",
      "source": "l = [12000,13000,20000,18000,21000]\ns=0\nprint(\"Salaries:\")\nfor i in l:\n    print(i)\n    s+=i\nprint(\"Total Salary Expenditure:\",s)",
      "metadata": {
        "trusted": true
      },
      "execution_count": 30,
      "outputs": [
        {
          "name": "stdout",
          "text": "Salaries:\n12000\n13000\n20000\n18000\n21000\nTotal Salary Expenditure: 84000\n",
          "output_type": "stream"
        }
      ]
    },
    {
      "cell_type": "raw",
      "source": "Create two dictionaries in Python:",
      "metadata": {}
    },
    {
      "cell_type": "markdown",
      "source": "<!--  -->First one to contain fields  as Empid,Empname,Basicpay\n\nSecond dictionary to contain fields as DeptName,DeptId.",
      "metadata": {}
    },
    {
      "cell_type": "raw",
      "source": "Combine both dictionaries.",
      "metadata": {}
    },
    {
      "cell_type": "code",
      "source": "dict1={\"Empid\":1900,\"Empname\":\"Shivam\",\"Basicpay\":52000}\ndict2={\"DeptName\":\"IT\",\"DeptId\":101}\ndict1.update(dict2)\nprint(dict1)",
      "metadata": {
        "trusted": true
      },
      "execution_count": 31,
      "outputs": [
        {
          "name": "stdout",
          "text": "{'Empid': 1900, 'Empname': 'Shivam', 'Basicpay': 52000, 'DeptName': 'IT', 'DeptId': 101}\n",
          "output_type": "stream"
        }
      ]
    },
    {
      "cell_type": "code",
      "source": "",
      "metadata": {},
      "execution_count": null,
      "outputs": []
    }
  ]
}