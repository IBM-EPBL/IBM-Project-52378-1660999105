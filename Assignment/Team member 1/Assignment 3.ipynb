{
  "metadata": {
    "language_info": {
      "codemirror_mode": {
        "name": "python",
        "version": 3
      },
      "file_extension": ".py",
      "mimetype": "text/x-python",
      "name": "python",
      "nbconvert_exporter": "python",
      "pygments_lexer": "ipython3",
      "version": "3.8"
    },
    "kernelspec": {
      "name": "python",
      "display_name": "Python (Pyodide)",
      "language": "python"
    }
  },
  "nbformat_minor": 4,
  "nbformat": 4,
  "cells": [
    {
      "cell_type": "markdown",
      "source": "**ASSIGNMENT 3**\n\n**KAVIYA SRI S**\n\n**732719104016**\n\nExercises\n\nAnswer the questions or complete the tasks outlined in bold below, use the specific method described if applicable.\n\n**What is 7 to the power of 4?**",
      "metadata": {}
    },
    {
      "cell_type": "code",
      "source": "7**4",
      "metadata": {
        "trusted": true
      },
      "execution_count": 1,
      "outputs": [
        {
          "execution_count": 1,
          "output_type": "execute_result",
          "data": {
            "text/plain": "2401"
          },
          "metadata": {}
        }
      ]
    },
    {
      "cell_type": "markdown",
      "source": "**Split this string:**\n\ns = \"Hi there Sam!\"\n\n**into a list.**",
      "metadata": {}
    },
    {
      "cell_type": "code",
      "source": "s = \"Hi there Sam!\"\ns.split()",
      "metadata": {
        "trusted": true
      },
      "execution_count": 2,
      "outputs": [
        {
          "execution_count": 2,
          "output_type": "execute_result",
          "data": {
            "text/plain": "['Hi', 'there', 'Sam!']"
          },
          "metadata": {}
        }
      ]
    },
    {
      "cell_type": "markdown",
      "source": "**Given the variables:**\n\nplanet = \"Earth\"\ndiameter = 12742\n\n**Use .format() to print the following string:**",
      "metadata": {}
    },
    {
      "cell_type": "code",
      "source": "planet = \"Earth\"\ndiameter = 12742\nprint('The diameter of {one} is {two} kilometers.'.format(one=planet,two=diameter))",
      "metadata": {
        "trusted": true
      },
      "execution_count": 3,
      "outputs": [
        {
          "name": "stdout",
          "text": "The diameter of Earth is 12742 kilometers.\n",
          "output_type": "stream"
        }
      ]
    },
    {
      "cell_type": "markdown",
      "source": "**Given this nested list, use indexing to grab the word \"hello\"**",
      "metadata": {}
    },
    {
      "cell_type": "code",
      "source": "lst = [1,2,[3,4],[5,[100,200,['hello']],23,11],1,7]\nlst[3][1][2][0]",
      "metadata": {
        "trusted": true
      },
      "execution_count": 4,
      "outputs": [
        {
          "execution_count": 4,
          "output_type": "execute_result",
          "data": {
            "text/plain": "'hello'"
          },
          "metadata": {}
        }
      ]
    },
    {
      "cell_type": "markdown",
      "source": "**Given this nest dictionary grab the word \"hello\". Be prepared, this will be annoying/tricky**",
      "metadata": {}
    },
    {
      "cell_type": "code",
      "source": "d = {'k1':[1,2,3,{'tricky':['oh','man','inception',{'target':[1,2,3,'hello']}]}]}\nd['k1'][3]['tricky'][3]['target'][3]",
      "metadata": {
        "trusted": true
      },
      "execution_count": 5,
      "outputs": [
        {
          "execution_count": 5,
          "output_type": "execute_result",
          "data": {
            "text/plain": "'hello'"
          },
          "metadata": {}
        }
      ]
    },
    {
      "cell_type": "markdown",
      "source": "**What is the main difference between a tuple and a list?**\n\n#One of the most important differences between a list and a tuple is that list is mutable, whereas a tuple is immutable.\n\n**Create a function that grabs the email website domain from a string in the form:**\n\nuser@domain.com\n\nSo for example, passing \"user@domain.com\" would return: domain.com",
      "metadata": {}
    },
    {
      "cell_type": "code",
      "source": "def domainGet(email):\n     return email.split('@')[-1]\ndomainGet('user@domain.com')",
      "metadata": {
        "trusted": true
      },
      "execution_count": 6,
      "outputs": [
        {
          "execution_count": 6,
          "output_type": "execute_result",
          "data": {
            "text/plain": "'domain.com'"
          },
          "metadata": {}
        }
      ]
    },
    {
      "cell_type": "markdown",
      "source": "**Create a basic function that returns True if the word 'dog' is contained in the input string. Don't worry about edge cases like a punctuation being attached to the word dog, but do account for capitalization.**",
      "metadata": {}
    },
    {
      "cell_type": "code",
      "source": "def findDog(st):\n  return 'dog' in st.lower().split() \nfindDog('Is there a dog here?')",
      "metadata": {
        "trusted": true
      },
      "execution_count": 7,
      "outputs": [
        {
          "execution_count": 7,
          "output_type": "execute_result",
          "data": {
            "text/plain": "True"
          },
          "metadata": {}
        }
      ]
    },
    {
      "cell_type": "markdown",
      "source": "**Create a function that counts the number of times the word \"dog\" occurs in a string. Again ignore edge cases.**",
      "metadata": {}
    },
    {
      "cell_type": "code",
      "source": "def countDog(st):\n     count = 0\n     for word in st.lower().split():\n         if word == 'dog':\n             count += 1\n     return count \ncountDog('This dog runs faster than the other dog dude!')",
      "metadata": {
        "trusted": true
      },
      "execution_count": 8,
      "outputs": [
        {
          "execution_count": 8,
          "output_type": "execute_result",
          "data": {
            "text/plain": "2"
          },
          "metadata": {}
        }
      ]
    },
    {
      "cell_type": "markdown",
      "source": "**Problem**\n\n**You are driving a little too fast, and a police officer stops you. Write a function to return one of 3 possible results: \"No ticket\", \"Small ticket\", or \"Big Ticket\". If your speed is 60 or less, the result is \"No Ticket\". If speed is between 61 and 80 inclusive, the result is \"Small Ticket\". If speed is 81 or more, the result is \"Big Ticket\". Unless it is your birthday (encoded as a boolean value in the parameters of the function) -- on your birthday, your speed can be 5 higher in all cases.**",
      "metadata": {}
    },
    {
      "cell_type": "code",
      "source": "def caught_speeding(speed, is_birthday):\n    \n    if is_birthday:\n        speeding = speed - 5\n    else:\n        speeding = speed\n    \n    if speeding > 80:\n        return 'Big Ticket'\n    elif speeding > 60:\n        return 'Small Ticket'\n    else:\n        return 'No Ticket'\ncaught_speeding(88,True)",
      "metadata": {
        "trusted": true
      },
      "execution_count": 9,
      "outputs": [
        {
          "execution_count": 9,
          "output_type": "execute_result",
          "data": {
            "text/plain": "'Big Ticket'"
          },
          "metadata": {}
        }
      ]
    },
    {
      "cell_type": "code",
      "source": "caught_speeding(81,True)",
      "metadata": {
        "trusted": true
      },
      "execution_count": 10,
      "outputs": [
        {
          "execution_count": 10,
          "output_type": "execute_result",
          "data": {
            "text/plain": "'Small Ticket'"
          },
          "metadata": {}
        }
      ]
    },
    {
      "cell_type": "markdown",
      "source": "**Create an employee list with basic salary values(at least 5 values for 5 employees) and using a for loop retreive each employee salary and calculate total salary expenditure.**",
      "metadata": {}
    },
    {
      "cell_type": "code",
      "source": "l=[1200,1500,1300,1400,1200]\nfor i in l:\n   print(\"Employee Salary\",i)\nprint(\"Total Salary Expenditure \",sum(l))",
      "metadata": {
        "trusted": true
      },
      "execution_count": 11,
      "outputs": [
        {
          "name": "stdout",
          "text": "Employee Salary 1200\nEmployee Salary 1500\nEmployee Salary 1300\nEmployee Salary 1400\nEmployee Salary 1200\nTotal Salary Expenditure  6600\n",
          "output_type": "stream"
        }
      ]
    },
    {
      "cell_type": "markdown",
      "source": "**Create two dictionaries in Python:**\n\nFirst one to contain fields as Empid, Empname, Basicpay\n\nSecond dictionary to contain fields as DeptName, DeptId.\n\nCombine both dictionaries.",
      "metadata": {}
    },
    {
      "cell_type": "code",
      "source": "dict1={\"Empid\":1,\"Empname\":\"kaviya\",\"Basicpay\":\"5LPA\"}\ndict2={\"DeptName\":\"Develpoing Dept\",\"DeptID\":\"GG003\"}\ndict1.update(dict2)\nprint(dict1)",
      "metadata": {
        "trusted": true
      },
      "execution_count": 13,
      "outputs": [
        {
          "name": "stdout",
          "text": "{'Empid': 1, 'Empname': 'kaviya', 'Basicpay': '5LPA', 'DeptName': 'Develpoing Dept', 'DeptID': 'GG003'}\n",
          "output_type": "stream"
        }
      ]
    },
    {
      "cell_type": "code",
      "source": "",
      "metadata": {},
      "execution_count": null,
      "outputs": []
    }
  ]
}